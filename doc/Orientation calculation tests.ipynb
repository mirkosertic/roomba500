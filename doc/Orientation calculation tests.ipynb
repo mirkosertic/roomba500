{
 "cells": [
  {
   "cell_type": "code",
   "execution_count": 7,
   "metadata": {},
   "outputs": [
    {
     "name": "stdout",
     "output_type": "stream",
     "text": [
      "x=149, y=129, deg=0.00490909823725616\n",
      "x=53, y=197, deg=-34.05194253027297\n",
      "x=-59, y=190, deg=-66.36094388478499\n",
      "x=-195, y=50, deg=-124.7286054089094\n",
      "x=-185, y=-136, deg=-175.4309130749985\n",
      "x=-54, y=-247, deg=-216.77783083073376\n",
      "x=143, y=-201, deg=95.46032543451123\n",
      "x=227, y=-41, deg=51.12819766651299\n"
     ]
    }
   ],
   "source": [
    "import math\n",
    "\n",
    "positions = [\n",
    "   (149,129),\n",
    "   (53,197),\n",
    "   (-59,190),\n",
    "   (-195,50),\n",
    "   (-185,-136),\n",
    "   (-54,-247),\n",
    "   (143,-201),\n",
    "   (227,-41)\n",
    "]\n",
    "\n",
    "offset = -49.11\n",
    "\n",
    "for (x,y) in positions:\n",
    "    tan = math.atan2(x, y)\n",
    "    deg = math.degrees(tan) + offset\n",
    "    \n",
    "    print(\"x=\" + str(x) + \", y=\" + str(y) +\", deg=\" + str(deg))"
   ]
  }
 ],
 "metadata": {
  "kernelspec": {
   "display_name": "Python 3",
   "language": "python",
   "name": "python3"
  },
  "language_info": {
   "codemirror_mode": {
    "name": "ipython",
    "version": 3
   },
   "file_extension": ".py",
   "mimetype": "text/x-python",
   "name": "python",
   "nbconvert_exporter": "python",
   "pygments_lexer": "ipython3",
   "version": "3.7.1"
  }
 },
 "nbformat": 4,
 "nbformat_minor": 2
}
