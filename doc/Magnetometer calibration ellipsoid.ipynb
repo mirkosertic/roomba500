{
 "cells": [
  {
   "cell_type": "markdown",
   "metadata": {},
   "source": [
    "# How to calibrate a 2D magnetometer with ellipsoid fitting"
   ]
  },
  {
   "cell_type": "markdown",
   "metadata": {},
   "source": [
    "## Step 1: Load uncalibrated magnetometer data as CSV\n",
    "\n",
    "The data was recorded by logging data from the magnetometer.\n",
    "\n",
    "Take care! This calibration process should be done while all systems of your robot or solution are running, so in a real life environment. This will make sure we take all hard iron influences into consideration. Place the robot in the middle of a room and let your robot turn to the left and to the right for a minute, and record the data."
   ]
  },
  {
   "cell_type": "code",
   "execution_count": 1,
   "metadata": {},
   "outputs": [],
   "source": [
    "import math\n",
    "import pandas as pd\n",
    "import numpy as np\n",
    "import matplotlib.pyplot as plt\n",
    "from matplotlib.patches import Ellipse\n",
    "\n",
    "rawdata = pd.read_csv('mag_out.csv')"
   ]
  },
  {
   "cell_type": "markdown",
   "metadata": {},
   "source": [
    "## Step 2: Visualize the data to see what is going on\n",
    "\n",
    "The easiest way is to plot the data on the x/y plane as a scatter plot. Every point represents a measurement of the magnetic field. We should see a perfect circle here, centered at (0,0).\n",
    "\n",
    "Due due hard iron effects, we do not see a circle, but an ellipse. It also seems not to be centered at (0,0).\n",
    "\n",
    "Goal of the calibration procedure is to find a way to transform the measurements back into a circle."
   ]
  },
  {
   "cell_type": "code",
   "execution_count": 2,
   "metadata": {},
   "outputs": [
    {
     "data": {
      "image/png": "[encoded data removed]",
      "text/plain": [
       "<Figure size 432x288 with 1 Axes>"
      ]
     },
     "metadata": {
      "needs_background": "light"
     },
     "output_type": "display_data"
    }
   ],
   "source": [
    "plt.scatter(rawdata[\"x\"], rawdata[\"y\"], label='Data Points', color='b')\n",
    "plt.show()"
   ]
  },
  {
   "cell_type": "markdown",
   "metadata": {},
   "source": [
    "## Step 3: Calculate the ellipsoid\n",
    "\n",
    "Ellipsoid fitting tries to find the best fitting ellipsoid in the data. During this process, outliers are mostly eliminated and sensor noise reduced. As the result, we get the center point of the ellipsoid, the length of its axes and also its orientation."
   ]
  },
  {
   "cell_type": "code",
   "execution_count": 3,
   "metadata": {},
   "outputs": [
    {
     "data": {
      "text/plain": [
       "[1.0879779842774204,\n",
       " 568.56,\n",
       " 425.04,\n",
       " 1578.814476904718,\n",
       " 486.51355571376524,\n",
       " 194.51640116784668,\n",
       " 178.78707471919532,\n",
       " 0.3939397944177896,\n",
       " 2.2444825952290746]"
      ]
     },
     "execution_count": 3,
     "metadata": {},
     "output_type": "execute_result"
    }
   ],
   "source": [
    "xcol = rawdata[\"x\"]\n",
    "ycol = rawdata[\"y\"]\n",
    "\n",
    "xmin = xcol.min()\n",
    "xmax = xcol.max()\n",
    "\n",
    "ymin = ycol.min()\n",
    "ymax = ycol.max()\n",
    "\n",
    "width = xmax - xmin\n",
    "height = ymax - ymin\n",
    "xyratio = width / height\n",
    "\n",
    "# Code taken from https://scipython.com/blog/direct-linear-least-squares-fitting-of-an-ellipse/\n",
    "def fit_ellipse(x, y):\n",
    "    \"\"\"\n",
    "\n",
    "    Fit the coefficients a,b,c,d,e,f, representing an ellipse described by\n",
    "    the formula F(x,y) = ax^2 + bxy + cy^2 + dx + ey + f = 0 to the provided\n",
    "    arrays of data points x=[x1, x2, ..., xn] and y=[y1, y2, ..., yn].\n",
    "\n",
    "    Based on the algorithm of Halir and Flusser, \"Numerically stable direct\n",
    "    least squares fitting of ellipses'.\n",
    "\n",
    "\n",
    "    \"\"\"\n",
    "\n",
    "    D1 = np.vstack([x**2, x*y, y**2]).T\n",
    "    D2 = np.vstack([x, y, np.ones(len(x))]).T\n",
    "    S1 = D1.T @ D1\n",
    "    S2 = D1.T @ D2\n",
    "    S3 = D2.T @ D2\n",
    "    T = -np.linalg.inv(S3) @ S2.T\n",
    "    M = S1 + S2 @ T\n",
    "    C = np.array(((0, 0, 2), (0, -1, 0), (2, 0, 0)), dtype=float)\n",
    "    M = np.linalg.inv(C) @ M\n",
    "    eigval, eigvec = np.linalg.eig(M)\n",
    "    con = 4 * eigvec[0]* eigvec[2] - eigvec[1]**2\n",
    "    ak = eigvec[:, np.nonzero(con > 0)[0]]\n",
    "    return np.concatenate((ak, T @ ak)).ravel()\n",
    "\n",
    "def cart_to_pol(coeffs):\n",
    "    \"\"\"\n",
    "\n",
    "    Convert the cartesian conic coefficients, (a, b, c, d, e, f), to the\n",
    "    ellipse parameters, where F(x, y) = ax^2 + bxy + cy^2 + dx + ey + f = 0.\n",
    "    The returned parameters are x0, y0, ap, bp, e, phi, where (x0, y0) is the\n",
    "    ellipse centre; (ap, bp) are the semi-major and semi-minor axes,\n",
    "    respectively; e is the eccentricity; and phi is the rotation of the semi-\n",
    "    major axis from the x-axis.\n",
    "\n",
    "    \"\"\"\n",
    "\n",
    "    # We use the formulas from https://mathworld.wolfram.com/Ellipse.html\n",
    "    # which assumes a cartesian form ax^2 + 2bxy + cy^2 + 2dx + 2fy + g = 0.\n",
    "    # Therefore, rename and scale b, d and f appropriately.\n",
    "    a = coeffs[0]\n",
    "    b = coeffs[1] / 2\n",
    "    c = coeffs[2]\n",
    "    d = coeffs[3] / 2\n",
    "    f = coeffs[4] / 2\n",
    "    g = coeffs[5]\n",
    "\n",
    "    den = b**2 - a*c\n",
    "    if den > 0:\n",
    "        raise ValueError('coeffs do not represent an ellipse: b^2 - 4ac must'\n",
    "                         ' be negative!')\n",
    "\n",
    "    # The location of the ellipse centre.\n",
    "    x0, y0 = (c*d - b*f) / den, (a*f - b*d) / den\n",
    "\n",
    "    num = 2 * (a*f**2 + c*d**2 + g*b**2 - 2*b*d*f - a*c*g)\n",
    "    fac = np.sqrt((a - c)**2 + 4*b**2)\n",
    "    # The semi-major and semi-minor axis lengths (these are not sorted).\n",
    "    ap = np.sqrt(num / den / (fac - a - c))\n",
    "    bp = np.sqrt(num / den / (-fac - a - c))\n",
    "\n",
    "    # Sort the semi-major and semi-minor axis lengths but keep track of\n",
    "    # the original relative magnitudes of width and height.\n",
    "    width_gt_height = True\n",
    "    if ap < bp:\n",
    "        width_gt_height = False\n",
    "        ap, bp = bp, ap\n",
    "\n",
    "    # The eccentricity.\n",
    "    r = (bp/ap)**2\n",
    "    if r > 1:\n",
    "        r = 1/r\n",
    "    e = np.sqrt(1 - r)\n",
    "\n",
    "    # The angle of anticlockwise rotation of the major-axis from x-axis.\n",
    "    if b == 0:\n",
    "        phi = 0 if a < c else np.pi/2\n",
    "    else:\n",
    "        phi = np.arctan((2.*b) / (a - c)) / 2\n",
    "        if a > c:\n",
    "            phi += np.pi/2\n",
    "    if not width_gt_height:\n",
    "        # Ensure that phi is the angle to rotate to the semi-major axis.\n",
    "        phi += np.pi/2\n",
    "    phi = phi % np.pi\n",
    "\n",
    "    return x0, y0, ap, bp, e, phi\n",
    "\n",
    "coeffs = fit_ellipse(xcol, ycol)\n",
    "x0, y0, ap, bp, e, phi = cart_to_pol(coeffs)\n",
    "\n",
    "rat = ap / bp\n",
    "\n",
    "[rat, width, height, x0, y0, ap, bp, e, math.degrees(phi)]"
   ]
  },
  {
   "cell_type": "code",
   "execution_count": 4,
   "metadata": {},
   "outputs": [
    {
     "data": {
      "image/png": "[encoded data removed]",
      "text/plain": [
       "<Figure size 432x288 with 1 Axes>"
      ]
     },
     "metadata": {
      "needs_background": "light"
     },
     "output_type": "display_data"
    }
   ],
   "source": [
    "ellipse = Ellipse((x0, y0), ap * 2, bp * 2, color='r', angle=math.degrees(phi), fill=False)\n",
    "\n",
    "fig, ax = plt.subplots()\n",
    "ax.add_patch(ellipse)\n",
    "ax.scatter(xcol, ycol, label='Data Points', color='b')\n",
    "\n",
    "plt.plot([x0 - math.cos(phi) * bp, x0 + math.cos(phi) * bp], [y0  - math.sin(phi) * ap, y0 + math.sin(phi) * ap], color='r', linestyle='-', linewidth=1)\n",
    "plt.plot([x0 - math.cos(phi + math.pi / 2) * bp, x0 + math.cos(phi + math.pi / 2) * bp], [y0 - math.sin(phi + math.pi / 2) * ap, y0 + math.sin(phi + math.pi / 2) * ap], color='r', linestyle='-', linewidth=1)\n",
    "\n",
    "plt.show()"
   ]
  },
  {
   "cell_type": "markdown",
   "metadata": {},
   "source": [
    "## Step 4: Apply offsets and rotation to data\n",
    "\n",
    "We apply the found hard iron offsets, scale factors and rotation compensations to the data points to make it the best circle we can."
   ]
  },
  {
   "cell_type": "code",
   "execution_count": 5,
   "metadata": {},
   "outputs": [
    {
     "data": {
      "text/plain": [
       "(2.2444825952290746, -2.2444825952290746)"
      ]
     },
     "execution_count": 5,
     "metadata": {},
     "output_type": "execute_result"
    }
   ],
   "source": [
    "rot = round(phi / (math.pi / 2.0))\n",
    "rotation = -(phi - rot * math.pi / 2.0)\n",
    "\n",
    "def correctdata(row):\n",
    "    x = row[\"x\"] - x0\n",
    "    y = row[\"y\"] - y0\n",
    "    return [x * np.cos(rotation) - y * np.sin(rotation),\n",
    "            (x * np.sin(rotation) + y * np.cos(rotation)) * rat]\n",
    "\n",
    "res = rawdata.apply(correctdata, axis=1, result_type='expand')\n",
    "rawdata[\"xcorrected\"] = res[0]\n",
    "rawdata[\"ycorrected\"] = res[1]\n",
    "\n",
    "math.degrees(phi), math.degrees(rotation)"
   ]
  },
  {
   "cell_type": "markdown",
   "metadata": {},
   "source": [
    "## Finally, the corrected data\n",
    "\n",
    "Here we are, this is the result when the calibration is applied. The center of the circle is at (0,0). There is also a green circle in the background showing the layout of a perfect circle to see the difference."
   ]
  },
  {
   "cell_type": "code",
   "execution_count": 6,
   "metadata": {},
   "outputs": [
    {
     "data": {
      "image/png": "[encoded data removed]",
      "text/plain": [
       "<Figure size 432x288 with 1 Axes>"
      ]
     },
     "metadata": {
      "needs_background": "light"
     },
     "output_type": "display_data"
    }
   ],
   "source": [
    "circle = plt.Circle((0, 0), ap, color='g', alpha=0.2)\n",
    "\n",
    "fig, ax = plt.subplots()\n",
    "ax.add_patch(circle)\n",
    "ax.scatter(rawdata[\"xcorrected\"], rawdata[\"ycorrected\"], label='Data Points', color='b')\n",
    "\n",
    "plt.show()"
   ]
  },
  {
   "cell_type": "markdown",
   "metadata": {},
   "source": [
    "# Summary\n",
    "\n",
    "## Pros\n",
    "\n",
    "- Sensor noise and outliers are well handled\n",
    "- Directional and rotational offsets are corrected\n",
    "- Works with a small set of data points to start calibration\n",
    "\n",
    "## Cons\n",
    "\n",
    "- Computationally intensive\n",
    "- Harder math\n",
    "- Harder to debug"
   ]
  }
 ],
 "metadata": {
  "kernelspec": {
   "display_name": "Python 3",
   "language": "python",
   "name": "python3"
  },
  "language_info": {
   "codemirror_mode": {
    "name": "ipython",
    "version": 3
   },
   "file_extension": ".py",
   "mimetype": "text/x-python",
   "name": "python",
   "nbconvert_exporter": "python",
   "pygments_lexer": "ipython3",
   "version": "3.7.1"
  }
 },
 "nbformat": 4,
 "nbformat_minor": 2
}
