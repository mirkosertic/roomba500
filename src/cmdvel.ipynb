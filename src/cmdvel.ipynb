{
 "cells": [
  {
   "cell_type": "code",
   "execution_count": 1,
   "id": "1c593853-f25f-45c3-ab74-4b353b8a6031",
   "metadata": {
    "ExecuteTime": {
     "end_time": "2023-05-31T12:27:03.067024Z",
     "start_time": "2023-05-31T12:26:58.837456Z"
    },
    "tags": []
   },
   "outputs": [],
   "source": [
    "import jupyros as jr\n",
    "import rospy\n",
    "import tf\n",
    "import ipywidgets as widgets\n",
    "import math\n",
    "\n",
    "from geometry_msgs.msg import PoseStamped\n",
    "from geometry_msgs.msg import Twist\n",
    "from nav_msgs.msg import Odometry\n",
    "\n",
    "from robotcontroller import RobotController\n",
    "from driver import Driver\n",
    "\n",
    "rospy.init_node('jupyter_cmdvel_node')"
   ]
  },
  {
   "cell_type": "code",
   "execution_count": 2,
   "id": "b709e1ff-40c3-492f-9f80-5050bcf51424",
   "metadata": {},
   "outputs": [
    {
     "data": {
      "application/vnd.jupyter.widget-view+json": {
       "model_id": "c627abcb2dff44ae83b8eae9a2b70c20",
       "version_major": 2,
       "version_minor": 0
      },
      "text/plain": [
       "VBox(children=(HBox(children=(Button(description='Stop', style=ButtonStyle()),)), Output(layout=Layout(border=…"
      ]
     },
     "metadata": {},
     "output_type": "display_data"
    }
   ],
   "source": [
    "cmdvelpub = rospy.Publisher('cmd_vel', Twist, queue_size=10)\n",
    "\n",
    "mapframe = 'odom'\n",
    "transformlistener = tf.TransformListener()\n",
    "\n",
    "robotcontroller = RobotController(transformlistener, mapframe, Driver(cmdvelpub))\n",
    "jr.subscribe('/odom', Odometry, robotcontroller.newodometry)"
   ]
  },
  {
   "cell_type": "code",
   "execution_count": 3,
   "id": "89e94d76-2fd2-44da-ace7-b6630640eaa5",
   "metadata": {
    "tags": []
   },
   "outputs": [
    {
     "data": {
      "application/vnd.jupyter.widget-view+json": {
       "model_id": "fb5b818d0f894d698901f8b1d05f1d19",
       "version_major": 2,
       "version_minor": 0
      },
      "text/plain": [
       "GridspecLayout(children=(Button(description='Forward', layout=Layout(grid_area='widget001', width='auto'), sty…"
      ]
     },
     "metadata": {},
     "output_type": "display_data"
    }
   ],
   "source": [
    "leftbutton = widgets.Button(description=\"Left\", layout=widgets.Layout(width='auto', grid_area='left'), style=widgets.ButtonStyle())\n",
    "rightbutton = widgets.Button(description=\"Right\", layout=widgets.Layout(width='auto', grid_area='right'), style=widgets.ButtonStyle())\n",
    "stopbutton = widgets.Button(description=\"Stop\", layout=widgets.Layout(width='auto', grid_area='center'), style=widgets.ButtonStyle())\n",
    "forwardbutton = widgets.Button(description=\"Forward\", layout=widgets.Layout(width='auto', grid_area='top'), style=widgets.ButtonStyle())\n",
    "backwardbutton = widgets.Button(description=\"Backward\", layout=widgets.Layout(width='auto', grid_area='bottom'), style=widgets.ButtonStyle())\n",
    "\n",
    "def turn_left(b):\n",
    "    tw = Twist()\n",
    "    tw.linear.x = .0\n",
    "    tw.linear.y = .0\n",
    "    tw.linear.z = .0\n",
    "    tw.angular.x = .0\n",
    "    tw.angular.y = .0\n",
    "    tw.angular.z = 1.2\n",
    "    cmdvelpub.publish(tw)\n",
    "    pass\n",
    "\n",
    "def turn_right(b):\n",
    "    tw = Twist()\n",
    "    tw.linear.x = .0\n",
    "    tw.linear.y = .0\n",
    "    tw.linear.z = .0\n",
    "    tw.angular.x = .0\n",
    "    tw.angular.y = .0\n",
    "    tw.angular.z = -1.2\n",
    "    cmdvelpub.publish(tw)\n",
    "    pass\n",
    "\n",
    "def forward(b):\n",
    "    tw = Twist()\n",
    "    tw.linear.x = 0.3\n",
    "    tw.linear.y = .0\n",
    "    tw.linear.z = .0\n",
    "    tw.angular.x = .0\n",
    "    tw.angular.y = .0\n",
    "    tw.angular.z = .0\n",
    "    cmdvelpub.publish(tw)\n",
    "    pass\n",
    "\n",
    "def backward(b):\n",
    "    tw = Twist()\n",
    "    tw.linear.x = -0.3\n",
    "    tw.linear.y = .0\n",
    "    tw.linear.z = .0\n",
    "    tw.angular.x = .0\n",
    "    tw.angular.y = .0\n",
    "    tw.angular.z = .0\n",
    "    cmdvelpub.publish(tw)\n",
    "    pass\n",
    "\n",
    "def stop(b):\n",
    "    tw = Twist()    \n",
    "    tw.linear.x = .0\n",
    "    tw.linear.y = .0\n",
    "    tw.linear.z = .0\n",
    "    tw.angular.x = .0\n",
    "    tw.angular.y = .0\n",
    "    tw.angular.z = .0\n",
    "    cmdvelpub.publish(tw)\n",
    "    \n",
    "    robotcontroller.stop()\n",
    "    pass\n",
    "\n",
    "leftbutton.on_click(turn_left)\n",
    "rightbutton.on_click(turn_right)\n",
    "forwardbutton.on_click(forward)\n",
    "backwardbutton.on_click(backward)\n",
    "stopbutton.on_click(stop)\n",
    "\n",
    "grid = widgets.GridspecLayout(3, 3)\n",
    "grid[0, 1] = forwardbutton\n",
    "grid[1,0] = leftbutton\n",
    "grid[1,1] = stopbutton\n",
    "grid[1,2] = rightbutton\n",
    "grid[2,1] = backwardbutton\n",
    "\n",
    "display(grid)"
   ]
  },
  {
   "cell_type": "code",
   "execution_count": 4,
   "id": "afa88840-5bfd-4d0f-b121-80591f2149d1",
   "metadata": {
    "ExecuteTime": {
     "end_time": "2023-05-31T12:27:17.072738Z",
     "start_time": "2023-05-31T12:27:16.944898Z"
    },
    "tags": []
   },
   "outputs": [
    {
     "data": {
      "application/vnd.jupyter.widget-view+json": {
       "model_id": "555f0b5ebf1b4374838ef6c1876980fb",
       "version_major": 2,
       "version_minor": 0
      },
      "text/plain": [
       "VBox(children=(HBox(children=(Button(description='Stop', style=ButtonStyle()),)), Output(layout=Layout(border=…"
      ]
     },
     "metadata": {},
     "output_type": "display_data"
    }
   ],
   "source": [
    "from robotbehaviors import RotateToState, DriveToPosition\n",
    "from nav_msgs.msg import Path\n",
    "from map import Map\n",
    "import traceback\n",
    "\n",
    "mapframe = 'odom'\n",
    "\n",
    "map = Map()\n",
    "\n",
    "pathpub = rospy.Publisher('navpath', Path, queue_size=10)\n",
    "\n",
    "def navgoal(message):\n",
    "\n",
    "    if robotcontroller.latestodominmapframe:\n",
    "\n",
    "        navgoalinframe = transformlistener.transformPose(mapframe, message)\n",
    "\n",
    "        #robotx = robotcontroller.latestodominmapframe.pose.position.x\n",
    "        #roboty = robotcontroller.latestodominmapframe.pose.position.y\n",
    "\n",
    "        #dx = navgoalinframe.pose.position.x - robotx\n",
    "        #dy = navgoalinframe.pose.position.y - roboty\n",
    "\n",
    "        #yaw = math.atan2(dy, dx)\n",
    "\n",
    "        try:\n",
    "            rospy.loginfo('Planning path...')\n",
    "            \n",
    "            p = map.findpath(robotcontroller.latestodominmapframe, navgoalinframe)\n",
    "            if p is not None:\n",
    "                path = map.gridpointstoposes(p, 'map')\n",
    "\n",
    "                rospy.loginfo('Path calculated with %s poses', len(path.poses))\n",
    "                pathpub.publish(path)\n",
    "                             \n",
    "                x = len(p) - 1\n",
    "                while x >= 1:\n",
    "                    (xtarget, ytarget) = p[x]\n",
    "                    (xorigin, yorigin) = p[x - 1]\n",
    "                    \n",
    "                    pose = map.gridtopose(p[x])\n",
    "                    path.poses.append(pose)\n",
    "\n",
    "                    robotcontroller.appendbehavior(DriveToPosition(pose))\n",
    "\n",
    "                    dx = xtarget - xorigin\n",
    "                    dy = ytarget - yorigin\n",
    "\n",
    "                    yaw = math.atan2(dy, dx)\n",
    "                    robotcontroller.appendbehavior(RotateToState(yaw))\n",
    "                    \n",
    "                    x = x -1\n",
    "                    \n",
    "                # Calculate to first waypoint\n",
    "                (xtarget, ytarget) = p[1]\n",
    "                (xorigin, yorigin) = p[0]\n",
    "                \n",
    "                pose = map.gridtopose(p[1])\n",
    "                path.poses.append(pose)\n",
    "\n",
    "                robotcontroller.appendbehavior(DriveToPosition(pose))\n",
    "\n",
    "                dx = xtarget - xorigin\n",
    "                dy = ytarget - yorigin\n",
    "\n",
    "                yaw = math.atan2(dy, dx)\n",
    "                robotcontroller.appendbehavior(RotateToState(yaw))\n",
    "\n",
    "                rospy.loginfo('Navigation state chain computed')\n",
    "\n",
    "            else:\n",
    "                rospy.loginfo('No path found')\n",
    "                \n",
    "        except Exception as e:\n",
    "            rospy.loginfo('Error creating path : %s', traceback.format_exc())\n",
    "\n",
    "    return\n",
    "\n",
    "jr.subscribe('/move_base_simple/goal', PoseStamped, navgoal)"
   ]
  },
  {
   "cell_type": "code",
   "execution_count": 5,
   "id": "905912ee-f429-4792-bbb3-803cd925702f",
   "metadata": {
    "ExecuteTime": {
     "end_time": "2023-05-31T12:27:19.428614Z",
     "start_time": "2023-05-31T12:27:19.045220Z"
    },
    "tags": []
   },
   "outputs": [
    {
     "data": {
      "application/vnd.jupyter.widget-view+json": {
       "model_id": "ee6a8626208a43e58501109c9769292a",
       "version_major": 2,
       "version_minor": 0
      },
      "text/plain": [
       "Canvas(width=300)"
      ]
     },
     "metadata": {},
     "output_type": "display_data"
    },
    {
     "data": {
      "application/vnd.jupyter.widget-view+json": {
       "model_id": "8f4ec99a3b1649f3ae942c283dfe978d",
       "version_major": 2,
       "version_minor": 0
      },
      "text/plain": [
       "VBox(children=(HBox(children=(Button(description='Stop', style=ButtonStyle()),)), Output(layout=Layout(border=…"
      ]
     },
     "metadata": {},
     "output_type": "display_data"
    },
    {
     "name": "stderr",
     "output_type": "stream",
     "text": [
      "Warning: TF_REPEATED_DATA ignoring data with redundant timestamp for frame odom at time 309.051000 according to authority /slam_gmapping\n",
      "         at line 278 in /opt/conda/build_artifacts/ros-noetic-tf2_1615118253106/work/ros-noetic-tf2/src/work/src/buffer_core.cpp\n",
      "Warning: TF_REPEATED_DATA ignoring data with redundant timestamp for frame odom at time 309.183000 according to authority /slam_gmapping\n",
      "         at line 278 in /opt/conda/build_artifacts/ros-noetic-tf2_1615118253106/work/ros-noetic-tf2/src/work/src/buffer_core.cpp\n"
     ]
    }
   ],
   "source": [
    "from nav_msgs.msg import OccupancyGrid\n",
    "from ipycanvas import Canvas, hold_canvas\n",
    "\n",
    "canvas = Canvas(width=300, height=500)\n",
    "display(canvas)\n",
    "\n",
    "coveragepathpub = rospy.Publisher('coveragepath', Path, queue_size=10)\n",
    "\n",
    "def newnavgrid(message):\n",
    "\n",
    "    try:\n",
    "        map.newmap(message)\n",
    "\n",
    "        with hold_canvas():\n",
    "            canvas.clear()\n",
    "            canvas.layout.width = str(message.info.width * 2) + 'px'\n",
    "            canvas.layout.height = str(message.info.height * 2) + 'px'\n",
    "            canvas.width = message.info.width\n",
    "            canvas.height = message.info.height\n",
    "\n",
    "            for y in range(message.info.height):\n",
    "                for x in range(message.info.width):\n",
    "                    bottomx = x;\n",
    "                    bottomy = message.info.height - 1 - y\n",
    "\n",
    "                    value = message.data[y * message.info.width + x]\n",
    "\n",
    "                    if value == 0:\n",
    "                        # Free cell\n",
    "                        canvas.fill_style = \"lightgray\"\n",
    "                        canvas.stroke_style = \"lightgray\"\n",
    "\n",
    "                        canvas.fill_rect(bottomx, bottomy - 1, 1, 1)\n",
    "                    if value > 0:\n",
    "                        # Occupied\n",
    "                        x = str(value)\n",
    "                        canvas.fill_style = \"rgba(0,0,255,\" + str(255 / value) + \")\"\n",
    "                        canvas.stroke_style = \"rgba(0,0,255,\" + str(255 / value) + \")\"\n",
    "\n",
    "                        canvas.fill_rect(bottomx, bottomy - 1, 1, 1)\n",
    "                            \n",
    "            if robotcontroller.latestodominmapframe:\n",
    "                robotx = robotcontroller.latestodominmapframe.pose.position.x\n",
    "                roboty = robotcontroller.latestodominmapframe.pose.position.y\n",
    "\n",
    "                mapx = int((robotx - message.info.origin.position.x) / message.info.resolution)\n",
    "                mapy = int((roboty - message.info.origin.position.y) / message.info.resolution)\n",
    "\n",
    "                canvas.fill_style = \"red\"\n",
    "                canvas.stroke_style = \"red\"\n",
    "\n",
    "                bottomy = message.info.height - 1 - mapy\n",
    "                canvas.fill_rect(mapx, bottomy + 1, 4, 4)\n",
    "\n",
    "            slices = map.celldecompose(5, None)\n",
    "            for slice in slices:\n",
    "                topx, ys = slice.top()\n",
    "                bottomx, yd = slice.bottom()\n",
    "                \n",
    "                ys = message.info.height - slice.ystart\n",
    "                yd = message.info.height - slice.yend\n",
    "                \n",
    "                canvas.fill_style = \"yellow\"\n",
    "                canvas.stroke_style = \"yellow\"\n",
    "                canvas.stroke_line(topx, ys, bottomx, yd)\n",
    "                    \n",
    "            if robotcontroller.latestodominmapframe:\n",
    "                path, lastpos, error = map.fullcoveragepath(3, robotcontroller.latestodominmapframe, None)\n",
    "                \n",
    "                if path is not None:\n",
    "                    cp = Path()\n",
    "                    cp.header.frame_id = 'map'\n",
    "                    cp.header.stamp = rospy.Time.now()\n",
    "\n",
    "                    for idx, element in enumerate(path):\n",
    "                        (ex, ey) = element                    \n",
    "                        if idx > 0:\n",
    "                            (sx, sy) = path[idx - 1]\n",
    "\n",
    "                            sym = message.info.height - sy\n",
    "                            eym = message.info.height - ey\n",
    "\n",
    "                            canvas.fill_style = \"green\"\n",
    "                            canvas.stroke_style = \"green\"\n",
    "                            canvas.stroke_line(sx, sym, ex, eym)\n",
    "\n",
    "                        cp.poses.append(map.gridtopose(element))\n",
    "\n",
    "                    coveragepathpub.publish(cp)\n",
    "\n",
    "                    if error:\n",
    "                        (sx, sy) = lastpos\n",
    "                        (ex, ey) = error\n",
    "\n",
    "                        sym = message.info.height - sy\n",
    "                        eym = message.info.height - ey\n",
    "\n",
    "                        canvas.fill_style = \"rgba(255,0,0,0.5)\"\n",
    "                        canvas.stroke_style = \"rgba(255,0,0,0.5)\"\n",
    "                        canvas.stroke_line(sx, sym, ex, eym)\n",
    "\n",
    "                        rospy.loginfo(\"Cannot create path from %s to %s : Direct path %s\", str(lastpos), str(error), map.isdirectpath(lastpos, error))\n",
    "\n",
    "    except Exception as e:\n",
    "        rospy.loginfo('Error creating path : %s', traceback.format_exc())\n",
    "\n",
    "\n",
    "jr.subscribe('/costmap_node/costmap/costmap', OccupancyGrid, newnavgrid)"
   ]
  },
  {
   "cell_type": "code",
   "execution_count": null,
   "id": "e23efe18-a5f7-44bc-a811-f34b83eae7a8",
   "metadata": {},
   "outputs": [],
   "source": []
  }
 ],
 "metadata": {
  "kernelspec": {
   "display_name": "Python 3 (ipykernel)",
   "language": "python",
   "name": "python3"
  },
  "language_info": {
   "codemirror_mode": {
    "name": "ipython",
    "version": 3
   },
   "file_extension": ".py",
   "mimetype": "text/x-python",
   "name": "python",
   "nbconvert_exporter": "python",
   "pygments_lexer": "ipython3",
   "version": "3.8.15"
  }
 },
 "nbformat": 4,
 "nbformat_minor": 5
}
