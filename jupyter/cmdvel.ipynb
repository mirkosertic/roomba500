{
 "cells": [
  {
   "cell_type": "code",
   "execution_count": 1,
   "id": "1c593853-f25f-45c3-ab74-4b353b8a6031",
   "metadata": {
    "ExecuteTime": {
     "end_time": "2023-05-31T12:27:03.067024Z",
     "start_time": "2023-05-31T12:26:58.837456Z"
    },
    "tags": []
   },
   "outputs": [],
   "source": [
    "import jupyros as jr\n",
    "import rospy\n",
    "import tf\n",
    "import ipywidgets as widgets\n",
    "import math\n",
    "\n",
    "from geometry_msgs.msg import PoseStamped\n",
    "from geometry_msgs.msg import Twist\n",
    "from nav_msgs.msg import Odometry\n",
    "\n",
    "from robotcontroller import RobotController\n",
    "\n",
    "rospy.init_node('jupyter_cmdvel_node')"
   ]
  },
  {
   "cell_type": "code",
   "execution_count": 2,
   "id": "9ca2ef88-533c-42bd-b7c8-1de55ca7cca8",
   "metadata": {
    "ExecuteTime": {
     "end_time": "2023-05-31T12:27:11.091045Z",
     "start_time": "2023-05-31T12:27:10.931329Z"
    },
    "tags": []
   },
   "outputs": [
    {
     "data": {
      "application/vnd.jupyter.widget-view+json": {
       "model_id": "7272b072ac284d3dbe36d0547b1042b7",
       "version_major": 2,
       "version_minor": 0
      },
      "text/plain": [
       "VBox(children=(Label(value='linear'), HBox(children=(Label(value='x', layout=Layout(width='100px')), FloatText…"
      ]
     },
     "metadata": {},
     "output_type": "display_data"
    }
   ],
   "source": [
    "jr.publish('/cmd_vel', Twist)"
   ]
  },
  {
   "cell_type": "code",
   "execution_count": 3,
   "id": "b9c108e9-a7ab-4c72-805f-8db627ae47ae",
   "metadata": {
    "ExecuteTime": {
     "end_time": "2023-05-31T12:27:13.538648Z",
     "start_time": "2023-05-31T12:27:13.448509Z"
    },
    "tags": []
   },
   "outputs": [
    {
     "data": {
      "application/vnd.jupyter.widget-view+json": {
       "model_id": "c5833938c1bb436f882eeb6f5e4dab16",
       "version_major": 2,
       "version_minor": 0
      },
      "text/plain": [
       "VBox(children=(HBox(children=(Button(description='Stop', style=ButtonStyle()),)), Output(layout=Layout(border=…"
      ]
     },
     "metadata": {},
     "output_type": "display_data"
    }
   ],
   "source": [
    "mapframe = 'odom'\n",
    "transformlistener = tf.TransformListener()\n",
    "cmdvelpub = rospy.Publisher('cmd_vel', Twist, queue_size=10)\n",
    "\n",
    "robotcontroller = RobotController(transformlistener, mapframe, cmdvelpub)\n",
    "jr.subscribe('/odom', Odometry, robotcontroller.newodometry)"
   ]
  },
  {
   "cell_type": "code",
   "execution_count": 4,
   "id": "86cd7378-f376-45b9-9653-668add89e6f0",
   "metadata": {
    "ExecuteTime": {
     "end_time": "2023-05-31T12:27:14.551232Z",
     "start_time": "2023-05-31T12:27:14.459755Z"
    },
    "tags": []
   },
   "outputs": [
    {
     "data": {
      "application/vnd.jupyter.widget-view+json": {
       "model_id": "298e08f3a4e54e92a14b560c8d436af9",
       "version_major": 2,
       "version_minor": 0
      },
      "text/plain": [
       "FloatSlider(value=1.0, continuous_update=False, description='Target theta:', max=3.141592653589793, min=-3.141…"
      ]
     },
     "metadata": {},
     "output_type": "display_data"
    },
    {
     "data": {
      "application/vnd.jupyter.widget-view+json": {
       "model_id": "6e33244822a64e3c982d0e77196d894b",
       "version_major": 2,
       "version_minor": 0
      },
      "text/plain": [
       "Output()"
      ]
     },
     "metadata": {},
     "output_type": "display_data"
    }
   ],
   "source": [
    "output = widgets.Output()\n",
    "\n",
    "def slider_change(change):\n",
    "    with output:\n",
    "        newvalue = change['new']\n",
    "        print(newvalue)\n",
    "        robotcontroller.appendbehavior(RotateToState(newvalue))\n",
    "    return\n",
    "\n",
    "slider = widgets.FloatSlider(\n",
    "    value=1,\n",
    "    min=-math.pi,\n",
    "    max=math.pi,\n",
    "    step=0.1,\n",
    "    description='Target theta:',\n",
    "    disabled=False,\n",
    "    continuous_update=False,\n",
    "    orientation='horizontal',\n",
    "    readout=True,\n",
    "    readout_format='.2f',\n",
    ")\n",
    "slider.observe(slider_change, names='value')\n",
    "\n",
    "display(slider, output)"
   ]
  },
  {
   "cell_type": "code",
   "execution_count": 5,
   "id": "afa88840-5bfd-4d0f-b121-80591f2149d1",
   "metadata": {
    "ExecuteTime": {
     "end_time": "2023-05-31T12:27:17.072738Z",
     "start_time": "2023-05-31T12:27:16.944898Z"
    },
    "tags": []
   },
   "outputs": [
    {
     "data": {
      "application/vnd.jupyter.widget-view+json": {
       "model_id": "26c4b87a503e4f2abbf9292f4048e059",
       "version_major": 2,
       "version_minor": 0
      },
      "text/plain": [
       "VBox(children=(HBox(children=(Button(description='Stop', style=ButtonStyle()),)), Output(layout=Layout(border=…"
      ]
     },
     "metadata": {},
     "output_type": "display_data"
    }
   ],
   "source": [
    "from rotatetostate import RotateToState\n",
    "from drivetoposition import DriveToPosition\n",
    "from nav_msgs.msg import Path\n",
    "from map import Map\n",
    "import traceback\n",
    "\n",
    "mapframe = 'odom'\n",
    "\n",
    "map = Map()\n",
    "\n",
    "pathpub = rospy.Publisher('pythonpath', Path, queue_size=10)\n",
    "\n",
    "def navgoal(message):\n",
    "\n",
    "    if robotcontroller.latestodominmapframe:\n",
    "\n",
    "        navgoalinframe = transformlistener.transformPose(mapframe, message)\n",
    "\n",
    "        robotx = robotcontroller.latestodominmapframe.pose.position.x\n",
    "        roboty = robotcontroller.latestodominmapframe.pose.position.y\n",
    "\n",
    "        dx = navgoalinframe.pose.position.x - robotx\n",
    "        dy = navgoalinframe.pose.position.y - roboty\n",
    "\n",
    "        yaw = math.atan2(dy, dx)\n",
    "\n",
    "        try:\n",
    "            rospy.loginfo('Planning path...')\n",
    "            \n",
    "            p = map.findpath(robotcontroller.latestodominmapframe, navgoalinframe)\n",
    "            if p is not None:\n",
    "                path = Path()\n",
    "                path.header.frame_id = 'map'\n",
    "                path.header.stamp = rospy.Time.now()\n",
    "\n",
    "                for po in p:\n",
    "                    (x, y) = po\n",
    "                    pose = PoseStamped()\n",
    "                    pose.pose.position.x = map.latestmap.info.origin.position.x + x * map.latestmap.info.resolution\n",
    "                    pose.pose.position.y = map.latestmap.info.origin.position.y + y * map.latestmap.info.resolution\n",
    "                    path.poses.append(pose)\n",
    "\n",
    "                rospy.loginfo('Path calculated with %s poses', len(path.poses))\n",
    "                pathpub.publish(path)\n",
    "                             \n",
    "                x = len(p) - 1\n",
    "                while x >= 1:\n",
    "                    (xtarget, ytarget) = p[x]\n",
    "                    (xorigin, yorigin) = p[x - 1]\n",
    "                    \n",
    "                    pose = PoseStamped()\n",
    "                    pose.pose.position.x = map.latestmap.info.origin.position.x + xtarget * map.latestmap.info.resolution\n",
    "                    pose.pose.position.y = map.latestmap.info.origin.position.y + ytarget * map.latestmap.info.resolution\n",
    "                    path.poses.append(pose)\n",
    "\n",
    "                    robotcontroller.appendbehavior(DriveToPosition(pose))\n",
    "\n",
    "                    dx = xtarget - xorigin\n",
    "                    dy = ytarget - yorigin\n",
    "\n",
    "                    yaw = math.atan2(dy, dx)\n",
    "                    robotcontroller.appendbehavior(RotateToState(yaw))\n",
    "                    \n",
    "                    x = x -1\n",
    "                    \n",
    "                # Calculate to first waypoint\n",
    "                (xtarget, ytarget) = p[1]\n",
    "                (xorigin, yorigin) = p[0]\n",
    "                \n",
    "                pose = PoseStamped()\n",
    "                pose.pose.position.x = map.latestmap.info.origin.position.x + xtarget * map.latestmap.info.resolution\n",
    "                pose.pose.position.y = map.latestmap.info.origin.position.y + ytarget * map.latestmap.info.resolution\n",
    "                path.poses.append(pose)\n",
    "\n",
    "                robotcontroller.appendbehavior(DriveToPosition(pose))\n",
    "\n",
    "                dx = xtarget - xorigin\n",
    "                dy = ytarget - yorigin\n",
    "\n",
    "                yaw = math.atan2(dy, dx)\n",
    "                robotcontroller.appendbehavior(RotateToState(yaw))\n",
    "\n",
    "                rospy.loginfo('Navigation state chain computed')\n",
    "\n",
    "            else:\n",
    "                rospy.loginfo('No path found')\n",
    "                \n",
    "        except Exception as e:\n",
    "            rospy.loginfo('Error creating path : %s', traceback.format_exc())\n",
    "\n",
    "    return\n",
    "\n",
    "jr.subscribe('/move_base_simple/goal', PoseStamped, navgoal)"
   ]
  },
  {
   "cell_type": "code",
   "execution_count": 6,
   "id": "905912ee-f429-4792-bbb3-803cd925702f",
   "metadata": {
    "ExecuteTime": {
     "end_time": "2023-05-31T12:27:19.428614Z",
     "start_time": "2023-05-31T12:27:19.045220Z"
    },
    "tags": []
   },
   "outputs": [
    {
     "data": {
      "application/vnd.jupyter.widget-view+json": {
       "model_id": "f5e8e57a55ed47b490fd7386263529e4",
       "version_major": 2,
       "version_minor": 0
      },
      "text/plain": [
       "Canvas(width=300)"
      ]
     },
     "metadata": {},
     "output_type": "display_data"
    },
    {
     "data": {
      "application/vnd.jupyter.widget-view+json": {
       "model_id": "2859f4b90b6543689569e7eb57a582d8",
       "version_major": 2,
       "version_minor": 0
      },
      "text/plain": [
       "VBox(children=(HBox(children=(Button(description='Stop', style=ButtonStyle()),)), Output(layout=Layout(border=…"
      ]
     },
     "metadata": {},
     "output_type": "display_data"
    }
   ],
   "source": [
    "from nav_msgs.msg import OccupancyGrid\n",
    "from ipycanvas import Canvas, hold_canvas\n",
    "\n",
    "canvas = Canvas(width=300, height=500)\n",
    "display(canvas)\n",
    "\n",
    "def newnavgrid(message):\n",
    "\n",
    "    try:\n",
    "        map.newmap(message)\n",
    "\n",
    "        with hold_canvas():\n",
    "            canvas.clear()\n",
    "            canvas.layout.width = str(message.info.width) + 'px'\n",
    "            canvas.layout.height = str(message.info.height) + 'px'\n",
    "            canvas.width = message.info.width\n",
    "            canvas.height = message.info.height\n",
    "\n",
    "            if True:\n",
    "                for y in range(message.info.height):\n",
    "                    for x in range(message.info.width):\n",
    "                        bottomx = x;\n",
    "                        bottomy = message.info.height - 1 - y\n",
    "\n",
    "                        value = message.data[y * message.info.width + x]\n",
    "\n",
    "                        if value == 0:\n",
    "                            # Free cell\n",
    "                            canvas.fill_style = \"lightgray\"\n",
    "                            canvas.stroke_style = \"lightgray\"\n",
    "\n",
    "                            canvas.fill_rect(bottomx, bottomy - 1, 1, 1)\n",
    "                        if value > 0:\n",
    "                            # Occupied\n",
    "                            canvas.fill_style = \"black\"\n",
    "                            canvas.stroke_style = \"black\"\n",
    "\n",
    "                            canvas.fill_rect(bottomx, bottomy - 1, 1, 1)\n",
    "\n",
    "            if robotcontroller.latestodominmapframe:\n",
    "                robotx = robotcontroller.latestodominmapframe.pose.position.x\n",
    "                roboty = robotcontroller.latestodominmapframe.pose.position.y\n",
    "\n",
    "                mapx = int((robotx - message.info.origin.position.x) / message.info.resolution)\n",
    "                mapy = int((roboty - message.info.origin.position.y) / message.info.resolution)\n",
    "\n",
    "                canvas.fill_style = \"red\"\n",
    "                canvas.stroke_style = \"red\"\n",
    "\n",
    "                bottomy = message.info.height - 1 - mapy\n",
    "                canvas.fill_rect(mapx, bottomy + 1, 4, 4)\n",
    "\n",
    "    except Exception as e:\n",
    "        rospy.logerr('Error processing map data : %s', e)\n",
    "\n",
    "\n",
    "jr.subscribe('/costmap_node/costmap/costmap', OccupancyGrid, newnavgrid)"
   ]
  },
  {
   "cell_type": "code",
   "execution_count": null,
   "id": "e23efe18-a5f7-44bc-a811-f34b83eae7a8",
   "metadata": {},
   "outputs": [],
   "source": []
  }
 ],
 "metadata": {
  "kernelspec": {
   "display_name": "Python 3 (ipykernel)",
   "language": "python",
   "name": "python3"
  },
  "language_info": {
   "codemirror_mode": {
    "name": "ipython",
    "version": 3
   },
   "file_extension": ".py",
   "mimetype": "text/x-python",
   "name": "python",
   "nbconvert_exporter": "python",
   "pygments_lexer": "ipython3",
   "version": "3.8.15"
  }
 },
 "nbformat": 4,
 "nbformat_minor": 5
}
