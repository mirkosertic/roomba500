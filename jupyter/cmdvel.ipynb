{
 "cells": [
  {
   "cell_type": "code",
   "execution_count": 1,
   "id": "1c593853-f25f-45c3-ab74-4b353b8a6031",
   "metadata": {
    "tags": []
   },
   "outputs": [],
   "source": [
    "import jupyros as jr\n",
    "import rospy\n",
    "import tf\n",
    "import numpy as np\n",
    "import ipywidgets as widgets\n",
    "import math\n",
    "\n",
    "from geometry_msgs.msg import PoseStamped\n",
    "from tf.transformations import euler_from_quaternion\n",
    "from geometry_msgs.msg import Twist\n",
    "from nav_msgs.msg import Odometry\n",
    "\n",
    "from robotcontroller import RobotController\n",
    "\n",
    "rospy.init_node('jupyter_node')"
   ]
  },
  {
   "cell_type": "code",
   "execution_count": 2,
   "id": "9ca2ef88-533c-42bd-b7c8-1de55ca7cca8",
   "metadata": {
    "tags": []
   },
   "outputs": [
    {
     "data": {
      "application/vnd.jupyter.widget-view+json": {
       "model_id": "e420609cd65b48faa01e6d64cf60e54a",
       "version_major": 2,
       "version_minor": 0
      },
      "text/plain": [
       "VBox(children=(Label(value='linear'), HBox(children=(Label(value='x', layout=Layout(width='100px')), FloatText…"
      ]
     },
     "metadata": {},
     "output_type": "display_data"
    }
   ],
   "source": [
    "jr.publish('/cmd_vel', Twist)"
   ]
  },
  {
   "cell_type": "code",
   "execution_count": 3,
   "id": "b9c108e9-a7ab-4c72-805f-8db627ae47ae",
   "metadata": {
    "tags": []
   },
   "outputs": [
    {
     "data": {
      "application/vnd.jupyter.widget-view+json": {
       "model_id": "ed48e855778f44219a15257293e59295",
       "version_major": 2,
       "version_minor": 0
      },
      "text/plain": [
       "VBox(children=(HBox(children=(Button(description='Stop', style=ButtonStyle()),)), Output(layout=Layout(border=…"
      ]
     },
     "metadata": {},
     "output_type": "display_data"
    }
   ],
   "source": [
    "mapframe = 'odom'\n",
    "transformlistener = tf.TransformListener()\n",
    "cmdvelpub = rospy.Publisher('cmd_vel', Twist, queue_size=10)\n",
    "\n",
    "robotcontroller = RobotController(transformlistener, mapframe, cmdvelpub)\n",
    "jr.subscribe('/odom', Odometry, robotcontroller.newodometry)"
   ]
  },
  {
   "cell_type": "code",
   "execution_count": 4,
   "id": "86cd7378-f376-45b9-9653-668add89e6f0",
   "metadata": {
    "tags": []
   },
   "outputs": [
    {
     "data": {
      "application/vnd.jupyter.widget-view+json": {
       "model_id": "bc9792ebabfe4e2991e978bf61d6c1a2",
       "version_major": 2,
       "version_minor": 0
      },
      "text/plain": [
       "FloatSlider(value=1.0, continuous_update=False, description='Target theta:', max=3.141592653589793, min=-3.141…"
      ]
     },
     "metadata": {},
     "output_type": "display_data"
    },
    {
     "data": {
      "application/vnd.jupyter.widget-view+json": {
       "model_id": "fba2d2d520014328af704abff479d66b",
       "version_major": 2,
       "version_minor": 0
      },
      "text/plain": [
       "Output()"
      ]
     },
     "metadata": {},
     "output_type": "display_data"
    }
   ],
   "source": [
    "output = widgets.Output()\n",
    "\n",
    "def slider_change(change):\n",
    "    with output:\n",
    "        newvalue = change['new']\n",
    "        print(newvalue)    \n",
    "        robotcontroller.appendbehavior(RotateToState(newvalue))\n",
    "    return\n",
    "\n",
    "slider = widgets.FloatSlider(\n",
    "    value=1,\n",
    "    min=-math.pi,\n",
    "    max=math.pi,\n",
    "    step=0.1,\n",
    "    description='Target theta:',\n",
    "    disabled=False,\n",
    "    continuous_update=False,\n",
    "    orientation='horizontal',\n",
    "    readout=True,\n",
    "    readout_format='.2f',\n",
    ")\n",
    "slider.observe(slider_change, names='value')\n",
    "\n",
    "display(slider, output)"
   ]
  },
  {
   "cell_type": "code",
   "execution_count": 5,
   "id": "cb8f94c6-6090-4fec-918b-020c3f2d8703",
   "metadata": {
    "tags": []
   },
   "outputs": [
    {
     "data": {
      "application/vnd.jupyter.widget-view+json": {
       "model_id": "fef5f723d2174af59f96641b0270a1cb",
       "version_major": 2,
       "version_minor": 0
      },
      "text/plain": [
       "VBox(children=(HBox(children=(Button(description='Stop', style=ButtonStyle()),)), Output(layout=Layout(border=…"
      ]
     },
     "metadata": {},
     "output_type": "display_data"
    }
   ],
   "source": [
    "from rotatetostate import RotateToState\n",
    "from drivetoposition import DriveToPosition\n",
    "\n",
    "def navgoal(message):\n",
    "\n",
    "    if robotcontroller.latestodominmapframe:\n",
    "        \n",
    "        navgoalinframe = transformlistener.transformPose(mapframe, message)\n",
    "        \n",
    "        dx = navgoalinframe.pose.position.x - robotcontroller.latestodominmapframe.pose.position.x\n",
    "        dy = navgoalinframe.pose.position.y - robotcontroller.latestodominmapframe.pose.position.y\n",
    "        \n",
    "        yaw = math.atan2(dy, dx)\n",
    "        robotcontroller.appendbehavior(DriveToPosition(navgoalinframe))\n",
    "        robotcontroller.appendbehavior(RotateToState(yaw))\n",
    "\n",
    "    return\n",
    "\n",
    "jr.subscribe('/move_base_simple/goal', PoseStamped, navgoal)"
   ]
  },
  {
   "cell_type": "code",
   "execution_count": 34,
   "id": "131ee750-af00-4b11-bf9a-bcf3bcc29488",
   "metadata": {
    "tags": []
   },
   "outputs": [
    {
     "data": {
      "application/vnd.jupyter.widget-view+json": {
       "model_id": "ad5b890342ae4b93b221d2aed1a75a4d",
       "version_major": 2,
       "version_minor": 0
      },
      "text/plain": [
       "Canvas(width=300)"
      ]
     },
     "metadata": {},
     "output_type": "display_data"
    },
    {
     "name": "stderr",
     "output_type": "stream",
     "text": [
      "Removing previous callback, only one redirection possible right now\n"
     ]
    },
    {
     "data": {
      "application/vnd.jupyter.widget-view+json": {
       "model_id": "e1086e5dea434722ac00333aca71215e",
       "version_major": 2,
       "version_minor": 0
      },
      "text/plain": [
       "VBox(children=(HBox(children=(Button(description='Stop', style=ButtonStyle()),)), Output(layout=Layout(border=…"
      ]
     },
     "metadata": {},
     "output_type": "display_data"
    }
   ],
   "source": [
    "from nav_msgs.msg import OccupancyGrid\n",
    "from ipycanvas import Canvas, hold_canvas\n",
    "\n",
    "canvas = Canvas(width=300, height=500)\n",
    "display(canvas)\n",
    "\n",
    "def newnavgrid(message):\n",
    "    \n",
    "    try:    \n",
    "        with hold_canvas():  \n",
    "            canvas.clear()\n",
    "            canvas.layout.width = str(message.info.width) + 'px'\n",
    "            canvas.layout.height = str(message.info.height) + 'px'\n",
    "            canvas.width = message.info.width\n",
    "            canvas.height = message.info.height\n",
    "            \n",
    "            if True:\n",
    "                for y in range(message.info.height):\n",
    "                    for x in range(message.info.width):\n",
    "                        bottomx = x;\n",
    "                        bottomy = message.info.height - 1 - y\n",
    "\n",
    "                        value = message.data[y * message.info.width + x]\n",
    "\n",
    "                        if value == 0:\n",
    "                            # Free cell\n",
    "                            canvas.fill_style = \"lightgray\"\n",
    "                            canvas.stroke_style = \"lightgray\"\n",
    "\n",
    "                            canvas.fill_rect(bottomx, bottomy - 1, 1, 1)\n",
    "                        if value > 0:\n",
    "                            # Occupied\n",
    "                            canvas.fill_style = \"black\"\n",
    "                            canvas.stroke_style = \"black\"\n",
    "\n",
    "                            canvas.fill_rect(bottomx, bottomy - 1, 1, 1)\n",
    "\n",
    "            if robotcontroller.latestodominmapframe:\n",
    "                robotx = robotcontroller.latestodominmapframe.pose.position.x\n",
    "                roboty = robotcontroller.latestodominmapframe.pose.position.y\n",
    "\n",
    "                mapx = int((robotx - message.info.origin.position.x) / message.info.resolution)\n",
    "                mapy = int((roboty - message.info.origin.position.y) / message.info.resolution)\n",
    "\n",
    "                canvas.fill_style = \"red\"\n",
    "                canvas.stroke_style = \"red\"\n",
    "\n",
    "                bottomy = message.info.height - 1 - mapy\n",
    "                canvas.fill_rect(mapx, bottomy + 1, 4, 4)\n",
    "\n",
    "    except Exception as e:\n",
    "        rospy.logerr('Error processing map data : %s', e)\n",
    "\n",
    "\n",
    "jr.subscribe('/costmap_node/costmap/costmap', OccupancyGrid, newnavgrid)"
   ]
  },
  {
   "cell_type": "code",
   "execution_count": null,
   "id": "a04c2d28-608c-49e8-ba02-24df760ae696",
   "metadata": {},
   "outputs": [],
   "source": []
  }
 ],
 "metadata": {
  "kernelspec": {
   "display_name": "Python 3 (ipykernel)",
   "language": "python",
   "name": "python3"
  },
  "language_info": {
   "codemirror_mode": {
    "name": "ipython",
    "version": 3
   },
   "file_extension": ".py",
   "mimetype": "text/x-python",
   "name": "python",
   "nbconvert_exporter": "python",
   "pygments_lexer": "ipython3",
   "version": "3.8.15"
  }
 },
 "nbformat": 4,
 "nbformat_minor": 5
}
