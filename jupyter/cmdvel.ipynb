{
 "cells": [
  {
   "cell_type": "code",
   "execution_count": 1,
   "id": "1c593853-f25f-45c3-ab74-4b353b8a6031",
   "metadata": {
    "tags": []
   },
   "outputs": [],
   "source": [
    "import jupyros as jr\n",
    "import rospy\n",
    "import tf\n",
    "import numpy as np\n",
    "import ipywidgets as widgets\n",
    "import math\n",
    "\n",
    "from geometry_msgs.msg import PoseStamped\n",
    "from tf.transformations import euler_from_quaternion\n",
    "from geometry_msgs.msg import Twist\n",
    "from nav_msgs.msg import Odometry\n",
    "\n",
    "from robotcontroller import RobotController\n",
    "\n",
    "rospy.init_node('jupyter_node')"
   ]
  },
  {
   "cell_type": "code",
   "execution_count": 2,
   "id": "9ca2ef88-533c-42bd-b7c8-1de55ca7cca8",
   "metadata": {
    "tags": []
   },
   "outputs": [
    {
     "data": {
      "application/vnd.jupyter.widget-view+json": {
       "model_id": "7962e1acaa164d5d86a53b591302f635",
       "version_major": 2,
       "version_minor": 0
      },
      "text/plain": [
       "VBox(children=(Label(value='linear'), HBox(children=(Label(value='x', layout=Layout(width='100px')), FloatText…"
      ]
     },
     "metadata": {},
     "output_type": "display_data"
    }
   ],
   "source": [
    "jr.publish('/cmd_vel', Twist)"
   ]
  },
  {
   "cell_type": "code",
   "execution_count": 3,
   "id": "b9c108e9-a7ab-4c72-805f-8db627ae47ae",
   "metadata": {
    "tags": []
   },
   "outputs": [
    {
     "data": {
      "application/vnd.jupyter.widget-view+json": {
       "model_id": "e53b4a77fc6b44bbbd05fe651b74d750",
       "version_major": 2,
       "version_minor": 0
      },
      "text/plain": [
       "VBox(children=(HBox(children=(Button(description='Stop', style=ButtonStyle()),)), Output(layout=Layout(border=…"
      ]
     },
     "metadata": {},
     "output_type": "display_data"
    }
   ],
   "source": [
    "mapframe = 'odom'\n",
    "transformlistener = tf.TransformListener()\n",
    "cmdvelpub = rospy.Publisher('cmd_vel', Twist, queue_size=10)\n",
    "\n",
    "robotcontroller = RobotController(transformlistener, mapframe, cmdvelpub)\n",
    "jr.subscribe('/odom', Odometry, robotcontroller.newodometry)"
   ]
  },
  {
   "cell_type": "code",
   "execution_count": 4,
   "id": "86cd7378-f376-45b9-9653-668add89e6f0",
   "metadata": {
    "tags": []
   },
   "outputs": [
    {
     "data": {
      "application/vnd.jupyter.widget-view+json": {
       "model_id": "8b30902ea68a48109f25837ece470a47",
       "version_major": 2,
       "version_minor": 0
      },
      "text/plain": [
       "FloatSlider(value=1.0, continuous_update=False, description='Target theta:', max=3.141592653589793, min=-3.141…"
      ]
     },
     "metadata": {},
     "output_type": "display_data"
    },
    {
     "data": {
      "application/vnd.jupyter.widget-view+json": {
       "model_id": "32530452eea242ddbf7415b629b7f2e9",
       "version_major": 2,
       "version_minor": 0
      },
      "text/plain": [
       "Output()"
      ]
     },
     "metadata": {},
     "output_type": "display_data"
    }
   ],
   "source": [
    "output = widgets.Output()\n",
    "\n",
    "def slider_change(change):\n",
    "    with output:\n",
    "        newvalue = change['new']\n",
    "        print(newvalue)    \n",
    "        robotcontroller.appendbehavior(RotateToState(newvalue))\n",
    "    return\n",
    "\n",
    "slider = widgets.FloatSlider(\n",
    "    value=1,\n",
    "    min=-math.pi,\n",
    "    max=math.pi,\n",
    "    step=0.1,\n",
    "    description='Target theta:',\n",
    "    disabled=False,\n",
    "    continuous_update=False,\n",
    "    orientation='horizontal',\n",
    "    readout=True,\n",
    "    readout_format='.2f',\n",
    ")\n",
    "slider.observe(slider_change, names='value')\n",
    "\n",
    "display(slider, output)"
   ]
  },
  {
   "cell_type": "code",
   "execution_count": 5,
   "id": "cb8f94c6-6090-4fec-918b-020c3f2d8703",
   "metadata": {
    "tags": []
   },
   "outputs": [
    {
     "data": {
      "application/vnd.jupyter.widget-view+json": {
       "model_id": "55ee9ca54cd84ba9868fd6c20eb75aae",
       "version_major": 2,
       "version_minor": 0
      },
      "text/plain": [
       "VBox(children=(HBox(children=(Button(description='Stop', style=ButtonStyle()),)), Output(layout=Layout(border=…"
      ]
     },
     "metadata": {},
     "output_type": "display_data"
    },
    {
     "name": "stderr",
     "output_type": "stream",
     "text": [
      "Warning: TF_REPEATED_DATA ignoring data with redundant timestamp for frame odom at time 1928.309000 according to authority /slam_gmapping\n",
      "         at line 278 in /opt/conda/build_artifacts/ros-noetic-tf2_1615118253106/work/ros-noetic-tf2/src/work/src/buffer_core.cpp\n",
      "Warning: TF_REPEATED_DATA ignoring data with redundant timestamp for frame odom at time 1928.519000 according to authority /slam_gmapping\n",
      "         at line 278 in /opt/conda/build_artifacts/ros-noetic-tf2_1615118253106/work/ros-noetic-tf2/src/work/src/buffer_core.cpp\n",
      "Warning: TF_REPEATED_DATA ignoring data with redundant timestamp for frame odom at time 1929.435000 according to authority /slam_gmapping\n",
      "         at line 278 in /opt/conda/build_artifacts/ros-noetic-tf2_1615118253106/work/ros-noetic-tf2/src/work/src/buffer_core.cpp\n",
      "Warning: TF_REPEATED_DATA ignoring data with redundant timestamp for frame odom at time 1929.558000 according to authority /slam_gmapping\n",
      "         at line 278 in /opt/conda/build_artifacts/ros-noetic-tf2_1615118253106/work/ros-noetic-tf2/src/work/src/buffer_core.cpp\n",
      "Warning: TF_REPEATED_DATA ignoring data with redundant timestamp for frame odom at time 1932.944000 according to authority /slam_gmapping\n",
      "         at line 278 in /opt/conda/build_artifacts/ros-noetic-tf2_1615118253106/work/ros-noetic-tf2/src/work/src/buffer_core.cpp\n",
      "Warning: TF_REPEATED_DATA ignoring data with redundant timestamp for frame odom at time 1950.395000 according to authority /slam_gmapping\n",
      "         at line 278 in /opt/conda/build_artifacts/ros-noetic-tf2_1615118253106/work/ros-noetic-tf2/src/work/src/buffer_core.cpp\n",
      "Warning: TF_REPEATED_DATA ignoring data with redundant timestamp for frame odom at time 1950.605000 according to authority /slam_gmapping\n",
      "         at line 278 in /opt/conda/build_artifacts/ros-noetic-tf2_1615118253106/work/ros-noetic-tf2/src/work/src/buffer_core.cpp\n",
      "Warning: TF_REPEATED_DATA ignoring data with redundant timestamp for frame odom at time 1993.094000 according to authority /slam_gmapping\n",
      "         at line 278 in /opt/conda/build_artifacts/ros-noetic-tf2_1615118253106/work/ros-noetic-tf2/src/work/src/buffer_core.cpp\n",
      "Warning: TF_REPEATED_DATA ignoring data with redundant timestamp for frame odom at time 2009.783000 according to authority /slam_gmapping\n",
      "         at line 278 in /opt/conda/build_artifacts/ros-noetic-tf2_1615118253106/work/ros-noetic-tf2/src/work/src/buffer_core.cpp\n",
      "Warning: TF_REPEATED_DATA ignoring data with redundant timestamp for frame odom at time 2010.521000 according to authority /slam_gmapping\n",
      "         at line 278 in /opt/conda/build_artifacts/ros-noetic-tf2_1615118253106/work/ros-noetic-tf2/src/work/src/buffer_core.cpp\n",
      "Warning: TF_REPEATED_DATA ignoring data with redundant timestamp for frame odom at time 2020.335000 according to authority /slam_gmapping\n",
      "         at line 278 in /opt/conda/build_artifacts/ros-noetic-tf2_1615118253106/work/ros-noetic-tf2/src/work/src/buffer_core.cpp\n",
      "Warning: TF_REPEATED_DATA ignoring data with redundant timestamp for frame odom at time 2020.487000 according to authority /slam_gmapping\n",
      "         at line 278 in /opt/conda/build_artifacts/ros-noetic-tf2_1615118253106/work/ros-noetic-tf2/src/work/src/buffer_core.cpp\n",
      "Warning: TF_REPEATED_DATA ignoring data with redundant timestamp for frame odom at time 2026.368000 according to authority /slam_gmapping\n",
      "         at line 278 in /opt/conda/build_artifacts/ros-noetic-tf2_1615118253106/work/ros-noetic-tf2/src/work/src/buffer_core.cpp\n",
      "Warning: TF_REPEATED_DATA ignoring data with redundant timestamp for frame odom at time 2063.937000 according to authority /slam_gmapping\n",
      "         at line 278 in /opt/conda/build_artifacts/ros-noetic-tf2_1615118253106/work/ros-noetic-tf2/src/work/src/buffer_core.cpp\n",
      "Warning: TF_REPEATED_DATA ignoring data with redundant timestamp for frame odom at time 2082.207000 according to authority /slam_gmapping\n",
      "         at line 278 in /opt/conda/build_artifacts/ros-noetic-tf2_1615118253106/work/ros-noetic-tf2/src/work/src/buffer_core.cpp\n"
     ]
    }
   ],
   "source": [
    "from rotatetostate import RotateToState\n",
    "from drivetoposition import DriveToPosition\n",
    "\n",
    "def navgoal(message):\n",
    "\n",
    "    if robotcontroller.latestodominmapframe:\n",
    "        \n",
    "        navgoalinframe = transformlistener.transformPose(mapframe, message)\n",
    "        \n",
    "        dx = navgoalinframe.pose.position.x - robotcontroller.latestodominmapframe.pose.position.x\n",
    "        dy = navgoalinframe.pose.position.y - robotcontroller.latestodominmapframe.pose.position.y\n",
    "        \n",
    "        yaw = math.atan2(dy, dx)\n",
    "        robotcontroller.appendbehavior(DriveToPosition(navgoalinframe))\n",
    "        robotcontroller.appendbehavior(RotateToState(yaw))\n",
    "\n",
    "    return\n",
    "\n",
    "jr.subscribe('/move_base_simple/goal', PoseStamped, navgoal)"
   ]
  },
  {
   "cell_type": "code",
   "execution_count": null,
   "id": "131ee750-af00-4b11-bf9a-bcf3bcc29488",
   "metadata": {},
   "outputs": [],
   "source": []
  }
 ],
 "metadata": {
  "kernelspec": {
   "display_name": "Python 3 (ipykernel)",
   "language": "python",
   "name": "python3"
  },
  "language_info": {
   "codemirror_mode": {
    "name": "ipython",
    "version": 3
   },
   "file_extension": ".py",
   "mimetype": "text/x-python",
   "name": "python",
   "nbconvert_exporter": "python",
   "pygments_lexer": "ipython3",
   "version": "3.8.15"
  }
 },
 "nbformat": 4,
 "nbformat_minor": 5
}
