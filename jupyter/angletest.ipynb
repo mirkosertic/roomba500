{
 "cells": [
  {
   "cell_type": "code",
   "execution_count": 2,
   "id": "6346e0ac-f43e-4587-b5e1-f125671a1d6f",
   "metadata": {
    "tags": []
   },
   "outputs": [
    {
     "data": {
      "text/plain": [
       "-1.5707963267948966"
      ]
     },
     "execution_count": 2,
     "metadata": {},
     "output_type": "execute_result"
    }
   ],
   "source": [
    "import math\n",
    "\n",
    "x = math.atan2(-1, 0)\n",
    "\n",
    "x"
   ]
  },
  {
   "cell_type": "code",
   "execution_count": 3,
   "id": "c2d5f139-8713-431f-b402-4a19c52ab27f",
   "metadata": {
    "tags": []
   },
   "outputs": [
    {
     "data": {
      "text/plain": [
       "-90.0"
      ]
     },
     "execution_count": 3,
     "metadata": {},
     "output_type": "execute_result"
    }
   ],
   "source": [
    "math.degrees(x)"
   ]
  },
  {
   "cell_type": "code",
   "execution_count": 17,
   "id": "23e1d948-0cb4-4d51-bf23-89c4dceadfb5",
   "metadata": {
    "tags": []
   },
   "outputs": [
    {
     "data": {
      "text/plain": [
       "-28.64788975654116"
      ]
     },
     "execution_count": 17,
     "metadata": {},
     "output_type": "execute_result"
    }
   ],
   "source": [
    "def normalizerad(x):\n",
    "    if x > 0:\n",
    "        return x % math.pi\n",
    "    return math.pi + (x % math.pi)\n",
    "\n",
    "def signedAngle(a, b):\n",
    "    a = math.degrees(normalizerad(b)) - math.degrees(normalizerad(a))\n",
    "    if a > 180.0:\n",
    "        a -= 360.0 \n",
    "    if a < -180.0:\n",
    "        a += 360.0 \n",
    "    return a\n",
    "\n",
    "signedAngle(x, x - 0.5)"
   ]
  },
  {
   "cell_type": "code",
   "execution_count": null,
   "id": "6b68f99f-8663-4cb9-be3e-7bf5d9d6342c",
   "metadata": {},
   "outputs": [],
   "source": []
  }
 ],
 "metadata": {
  "kernelspec": {
   "display_name": "Python 3 (ipykernel)",
   "language": "python",
   "name": "python3"
  },
  "language_info": {
   "codemirror_mode": {
    "name": "ipython",
    "version": 3
   },
   "file_extension": ".py",
   "mimetype": "text/x-python",
   "name": "python",
   "nbconvert_exporter": "python",
   "pygments_lexer": "ipython3",
   "version": "3.8.15"
  }
 },
 "nbformat": 4,
 "nbformat_minor": 5
}
